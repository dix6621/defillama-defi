{
	"cells": [
		{
			"cell_type": "markdown",
			"metadata": {
				"deletable": false,
				"editable": false,
				"trusted": true
			},
			"source": [
				"\n",
				"# Glue Studio Notebook\n",
				"You are now running a **Glue Studio** notebook; before you can start using your notebook you *must* start an interactive session.\n",
				"\n",
				"## Available Magics\n",
				"|          Magic              |   Type       |                                                                        Description                                                                        |\n",
				"|-----------------------------|--------------|-----------------------------------------------------------------------------------------------------------------------------------------------------------|\n",
				"| %%configure                 |  Dictionary  |  A json-formatted dictionary consisting of all configuration parameters for a session. Each parameter can be specified here or through individual magics. |\n",
				"| %profile                    |  String      |  Specify a profile in your aws configuration to use as the credentials provider.                                                                          |\n",
				"| %iam_role                   |  String      |  Specify an IAM role to execute your session with.                                                                                                        |\n",
				"| %region                     |  String      |  Specify the AWS region in which to initialize a session                                                                                                  |\n",
				"| %session_id                 |  String      |  Returns the session ID for the running session.                                                                                                          |\n",
				"| %connections                |  List        |  Specify a comma separated list of connections to use in the session.                                                                                     |\n",
				"| %additional_python_modules  |  List        |  Comma separated list of pip packages, s3 paths or private pip arguments.                                                                                 |\n",
				"| %extra_py_files             |  List        |  Comma separated list of additional Python files from S3.                                                                                                 |\n",
				"| %extra_jars                 |  List        |  Comma separated list of additional Jars to include in the cluster.                                                                                       |\n",
				"| %number_of_workers          |  Integer     |  The number of workers of a defined worker_type that are allocated when a job runs. worker_type must be set too.                                          |\n",
				"| %worker_type                |  String      |  Standard, G.1X, *or* G.2X. number_of_workers must be set too. Default is G.1X                                                                            |\n",
				"| %glue_version               |  String      |  The version of Glue to be used by this session. Currently, the only valid options are 2.0 and 3.0 (eg: %glue_version 2.0)                                |\n",
				"| %security_config            |  String      |  Define a security configuration to be used with this session.                                                                                            |\n",
				"| %sql                        |  String      |  Run SQL code. All lines after the initial %%sql magic will be passed as part of the SQL code.                                                            |\n",
				"| %streaming                  |  String      |  Changes the session type to Glue Streaming.                                                                                                              |\n",
				"| %etl                        |  String      |   Changes the session type to Glue ETL.                                                                                                                   |\n",
				"| %status                     |              |  Returns the status of the current Glue session including its duration, configuration and executing user / role.                                          |\n",
				"| %stop_session               |              |  Stops the current session.                                                                                                                               |\n",
				"| %list_sessions              |              |  Lists all currently running sessions by name and ID.                                                                                                     |\n",
				"| %spark_conf                 |  String      |  Specify custom spark configurations for your session. E.g. %spark_conf spark.serializer=org.apache.spark.serializer.KryoSerializer                       |"
			]
		},
		{
			"cell_type": "code",
			"execution_count": null,
			"metadata": {
				"editable": true,
				"trusted": true,
				"vscode": {
					"languageId": "python_glue_session"
				}
			},
			"outputs": [],
			"source": [
				"import sys\n",
				"from awsglue.transforms import *\n",
				"from awsglue.utils import getResolvedOptions\n",
				"from pyspark.context import SparkContext\n",
				"from awsglue.context import GlueContext\n",
				"from awsglue.job import Job\n",
				"  \n",
				"sc = SparkContext.getOrCreate()\n",
				"glueContext = GlueContext(sc)\n",
				"spark = glueContext.spark_session\n",
				"job = Job(glueContext)"
			]
		},
		{
			"cell_type": "code",
			"execution_count": null,
			"metadata": {
				"trusted": true,
				"vscode": {
					"languageId": "python_glue_session"
				}
			},
			"outputs": [],
			"source": [
				"import datetime\n",
				"from pyspark.sql.functions import col, when, count, isnan, concat\n",
				"from pyspark.sql.types import DoubleType\n",
				"end_date = datetime.date.today() + datetime.timedelta(days = 1)"
			]
		},
		{
			"cell_type": "code",
			"execution_count": null,
			"metadata": {
				"trusted": true,
				"vscode": {
					"languageId": "python_glue_session"
				}
			},
			"outputs": [],
			"source": [
				"# Script generated for node Amazon S3\n",
				"pools_yield_dyf = glueContext.create_dynamic_frame.from_options(\n",
				"    format_options={\"multiline\": False},\n",
				"    connection_type=\"s3\",\n",
				"    format=\"json\",\n",
				"    connection_options={\n",
				"        \"paths\": [f\"s3://dataspartan-test-bucket/defillama-analytics/raw-data/pools-yield/results/llama_pools_yield_{end_date}.json\"],\n",
				"        \"recurse\": False,\n",
				"    },\n",
				")"
			]
		},
		{
			"cell_type": "code",
			"execution_count": null,
			"metadata": {
				"trusted": true,
				"vscode": {
					"languageId": "python_glue_session"
				}
			},
			"outputs": [],
			"source": [
				"# pools_yield_dyf.printSchema()\n",
				"pools_yield_dyfc = pools_yield_dyf.resolveChoice(choice=\"make_cols\").relationalize(\"root\", \"s3://dataspartan-test-bucket/unspecified/temp-dir/\")\n",
				"pools_yield_dyfc_root_pools_yield = pools_yield_dyfc.select('root_pools_yield')\n",
				"pools_yield_dyf_root_pools_yield = pools_yield_dyfc_root_pools_yield.toDF()\n",
				"new_cols=(column.replace('.', '_') for column in pools_yield_dyf_root_pools_yield.columns)\n",
				"pools_yield_dyf_root_pools_yield = pools_yield_dyf_root_pools_yield.toDF(*new_cols)"
			]
		},
		{
			"cell_type": "code",
			"execution_count": null,
			"metadata": {
				"trusted": true,
				"vscode": {
					"languageId": "python_glue_session"
				}
			},
			"outputs": [],
			"source": [
				"remainCols = ['id', 'index', 'pools_yield_val_chain', 'pools_yield_val_project', 'pools_yield_val_symbol', 'pools_yield_val_pool', 'pools_yield_val_stablecoin', 'pools_yield_val_ilRisk', 'pools_yield_val_exposure', 'pools_yield_val_predictions_predictedClass', 'pools_yield_val_predictions_binnedConfidence', 'pools_yield_val_poolMeta', 'pools_yield_val_count', 'pools_yield_val_outlier', 'pools_yield_val_rewardTokens', 'pools_yield_val_underlyingTokens']\n",
				"fillnaCols = {'pools_yield_val_tvlUsd_long':'0','pools_yield_val_tvlUsd_int':'0','pools_yield_val_apyBase_double':'0', 'pools_yield_val_apyBase_int':'0','pools_yield_val_apyReward_double':'0', 'pools_yield_val_apyReward_int':'0','pools_yield_val_apy_double':'0', 'pools_yield_val_apy_int':'0','pools_yield_val_apyPct1D_double':'0', 'pools_yield_val_apyPct1D_int':'0','pools_yield_val_apyPct7D_double':'0', 'pools_yield_val_apyPct7D_int':'0','pools_yield_val_apyPct30D_double':'0', 'pools_yield_val_apyPct30D_int':'0','pools_yield_val_predictions_predictedProbability_double':'0', 'pools_yield_val_predictions_predictedProbability_int':'0','pools_yield_val_mu_double':'0','pools_yield_val_mu_int':'0','pools_yield_val_sigma_double':'0','pools_yield_val_sigma_int':'0'}\n",
				"tvlCols = ['pools_yield_val_tvlUsd_long','pools_yield_val_tvlUsd_int', 'pools_yield_val_tvlUsd']\n",
				"apyBaseCols = ['pools_yield_val_apyBase_double', 'pools_yield_val_apyBase_int', 'pools_yield_val_apyBase']\n",
				"apyRewardCols = ['pools_yield_val_apyReward_double', 'pools_yield_val_apyReward_int', 'pools_yield_val_apyReward']\n",
				"apyCols = ['pools_yield_val_apy_double', 'pools_yield_val_apy_int', 'pools_yield_val_apy']\n",
				"apypct1dCols = ['pools_yield_val_apyPct1D_double', 'pools_yield_val_apyPct1D_int', 'pools_yield_val_apyPct1D']\n",
				"apypct7dCols = ['pools_yield_val_apyPct7D_double', 'pools_yield_val_apyPct7D_int', 'pools_yield_val_apyPct7D']\n",
				"apypct30dCols = ['pools_yield_val_apyPct30D_double', 'pools_yield_val_apyPct30D_int', 'pools_yield_val_apyPct30D']\n",
				"predprobCols = ['pools_yield_val_predictions_predictedProbability_double', 'pools_yield_val_predictions_predictedProbability_int', 'pools_yield_val_predictions_predictedProbability']\n",
				"muCols = ['pools_yield_val_mu_double','pools_yield_val_mu_int', 'pools_yield_val_mu']\n",
				"sigmaCols = ['pools_yield_val_sigma_double','pools_yield_val_sigma_int', 'pools_yield_val_sigma']"
			]
		},
		{
			"cell_type": "code",
			"execution_count": null,
			"metadata": {
				"trusted": true,
				"vscode": {
					"languageId": "python_glue_session"
				}
			},
			"outputs": [],
			"source": [
				"pools_yield_dyf_root_pools_yield2 = pools_yield_dyf_root_pools_yield.fillna(fillnaCols).select(\n",
				"    ((col(tvlCols[0]) + col(tvlCols[1]))).alias(tvlCols[2]),\n",
				"    ((col(apyBaseCols[0]) + col(apyBaseCols[1]))/100).alias(apyBaseCols[2]),\n",
				"    ((col(apyRewardCols[0]) + col(apyRewardCols[1]))/100).alias(apyRewardCols[2]),\n",
				"    ((col(apyCols[0]) + col(apyCols[1]))/100).alias(apyCols[2]),\n",
				"    ((col(apypct1dCols[0]) + col(apypct1dCols[1]))/100).alias(apypct1dCols[2]),\n",
				"    ((col(apypct7dCols[0]) + col(apypct7dCols[1]))/100).alias(apypct7dCols[2]),\n",
				"    ((col(apypct30dCols[0]) + col(apypct30dCols[1]))/100).alias(apypct30dCols[2]),\n",
				"    ((col(predprobCols[0]) + col(predprobCols[1]))/100).alias(predprobCols[2]),\n",
				"    ((col(muCols[0]) + col(muCols[1]))/100).alias(muCols[2]),\n",
				"    ((col(sigmaCols[0]) + col(sigmaCols[1]))/100).alias(sigmaCols[2]),\n",
				"    *remainCols,\n",
				")"
			]
		},
		{
			"cell_type": "code",
			"execution_count": null,
			"metadata": {
				"trusted": true,
				"vscode": {
					"languageId": "python_glue_session"
				}
			},
			"outputs": [],
			"source": [
				"def blank_as_null(x):\n",
				"    return when(col(x) != \"\", col(x)).otherwise(None)"
			]
		},
		{
			"cell_type": "code",
			"execution_count": null,
			"metadata": {
				"trusted": true,
				"vscode": {
					"languageId": "python_glue_session"
				}
			},
			"outputs": [],
			"source": [
				"pools_yield_dyf_root_pools_yield2 = pools_yield_dyf_root_pools_yield2.withColumn(\"pools_yield_val_predictions_predictedClass\", blank_as_null(\"pools_yield_val_predictions_predictedClass\"))"
			]
		},
		{
			"cell_type": "code",
			"execution_count": null,
			"metadata": {
				"vscode": {
					"languageId": "python_glue_session"
				}
			},
			"outputs": [],
			"source": [
				"#https://medium.com/geekculture/aws-glue-simple-job-to-write-part-csv-files-to-a-single-file-d805eddbe641\n",
				"pools_yield_dyf_root_pools_yield2.repartition(1).write.mode('overwrite').csv(f's3://dataspartan-test-bucket/defillama-analytics/raw-data/pools-yield/unnested/dump/root_pools_yield_{end_date}',header = 'true')"
			]
		},
		{
			"cell_type": "code",
			"execution_count": null,
			"metadata": {
				"trusted": true,
				"vscode": {
					"languageId": "python_glue_session"
				}
			},
			"outputs": [],
			"source": [
				"import boto3\n",
				"client = boto3.client('s3')\n",
				"BUCKET_NAME= 'dataspartan-test-bucket'\n",
				"PREFIX_start ='defillama-analytics/raw-data/pools-yield/unnested/'\n",
				"PREFIX_end =f'/root_pools_yield_{end_date}'\n",
				"response = client.list_objects(\n",
				"    Bucket=BUCKET_NAME, Prefix=PREFIX_start+'dump'+PREFIX_end,)\n",
				"#Helps to fetch the file name of the file created in this glue job\n",
				"name = response['Contents'][0]['Key']\n",
				"client.copy_object(Bucket=BUCKET_NAME, \n",
				"#The csv file generated can be renamed with a name as desired !\n",
				"CopySource=BUCKET_NAME+'/'+name, Key=PREFIX_start+f'root_pools_yield/root_pools_yield_single_file.csv')\n",
				"client.copy_object(Bucket='dataspartan-google-drive', \n",
				"#The csv file generated can be renamed with a name as desired !\n",
				"CopySource=BUCKET_NAME+'/'+name, Key='root_pools_yield_single_file.csv')\n",
				"# client.delete_object(Bucket=BUCKET_NAME ,Key=name)"
			]
		},
		{
			"cell_type": "code",
			"execution_count": null,
			"metadata": {
				"vscode": {
					"languageId": "python_glue_session"
				}
			},
			"outputs": [],
			"source": []
		}
	],
	"metadata": {
		"kernelspec": {
			"display_name": "Glue PySpark",
			"language": "python",
			"name": "glue_pyspark"
		},
		"language_info": {
			"codemirror_mode": {
				"name": "python",
				"version": 3
			},
			"file_extension": ".py",
			"mimetype": "text/x-python",
			"name": "Python_Glue_Session",
			"pygments_lexer": "python3"
		}
	},
	"nbformat": 4,
	"nbformat_minor": 4
}
