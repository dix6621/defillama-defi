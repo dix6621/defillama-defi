{
	"cells": [
		{
			"cell_type": "markdown",
			"metadata": {
				"deletable": false,
				"editable": false,
				"trusted": true
			},
			"source": [
				"\n",
				"# Glue Studio Notebook\n",
				"You are now running a **Glue Studio** notebook; before you can start using your notebook you *must* start an interactive session.\n",
				"\n",
				"## Available Magics\n",
				"|          Magic              |   Type       |                                                                        Description                                                                        |\n",
				"|-----------------------------|--------------|-----------------------------------------------------------------------------------------------------------------------------------------------------------|\n",
				"| %%configure                 |  Dictionary  |  A json-formatted dictionary consisting of all configuration parameters for a session. Each parameter can be specified here or through individual magics. |\n",
				"| %profile                    |  String      |  Specify a profile in your aws configuration to use as the credentials provider.                                                                          |\n",
				"| %iam_role                   |  String      |  Specify an IAM role to execute your session with.                                                                                                        |\n",
				"| %region                     |  String      |  Specify the AWS region in which to initialize a session                                                                                                  |\n",
				"| %session_id                 |  String      |  Returns the session ID for the running session.                                                                                                          |\n",
				"| %connections                |  List        |  Specify a comma separated list of connections to use in the session.                                                                                     |\n",
				"| %additional_python_modules  |  List        |  Comma separated list of pip packages, s3 paths or private pip arguments.                                                                                 |\n",
				"| %extra_py_files             |  List        |  Comma separated list of additional Python files from S3.                                                                                                 |\n",
				"| %extra_jars                 |  List        |  Comma separated list of additional Jars to include in the cluster.                                                                                       |\n",
				"| %number_of_workers          |  Integer     |  The number of workers of a defined worker_type that are allocated when a job runs. worker_type must be set too.                                          |\n",
				"| %worker_type                |  String      |  Standard, G.1X, *or* G.2X. number_of_workers must be set too. Default is G.1X                                                                            |\n",
				"| %glue_version               |  String      |  The version of Glue to be used by this session. Currently, the only valid options are 2.0 and 3.0 (eg: %glue_version 2.0)                                |\n",
				"| %security_config            |  String      |  Define a security configuration to be used with this session.                                                                                            |\n",
				"| %sql                        |  String      |  Run SQL code. All lines after the initial %%sql magic will be passed as part of the SQL code.                                                            |\n",
				"| %streaming                  |  String      |  Changes the session type to Glue Streaming.                                                                                                              |\n",
				"| %etl                        |  String      |   Changes the session type to Glue ETL.                                                                                                                   |\n",
				"| %status                     |              |  Returns the status of the current Glue session including its duration, configuration and executing user / role.                                          |\n",
				"| %stop_session               |              |  Stops the current session.                                                                                                                               |\n",
				"| %list_sessions              |              |  Lists all currently running sessions by name and ID.                                                                                                     |\n",
				"| %spark_conf                 |  String      |  Specify custom spark configurations for your session. E.g. %spark_conf spark.serializer=org.apache.spark.serializer.KryoSerializer                       |"
			]
		},
		{
			"cell_type": "code",
			"execution_count": null,
			"metadata": {
				"editable": true,
				"trusted": true,
				"vscode": {
					"languageId": "python_glue_session"
				}
			},
			"outputs": [],
			"source": [
				"import sys\n",
				"from awsglue.transforms import *\n",
				"from awsglue.utils import getResolvedOptions\n",
				"from pyspark.context import SparkContext\n",
				"from awsglue.context import GlueContext\n",
				"from awsglue.job import Job\n",
				"  \n",
				"sc = SparkContext.getOrCreate()\n",
				"glueContext = GlueContext(sc)\n",
				"spark = glueContext.spark_session\n",
				"job = Job(glueContext)"
			]
		},
		{
			"cell_type": "code",
			"execution_count": null,
			"metadata": {
				"trusted": true,
				"vscode": {
					"languageId": "python_glue_session"
				}
			},
			"outputs": [],
			"source": [
				"import datetime\n",
				"from pyspark.sql.types import StructType,StructField, StringType, IntegerType\n",
				"from pyspark.sql.functions import explode\n",
				"end_date = datetime.date.today()"
			]
		},
		{
			"cell_type": "code",
			"execution_count": null,
			"metadata": {
				"trusted": true,
				"vscode": {
					"languageId": "python_glue_session"
				}
			},
			"outputs": [],
			"source": [
				"# Load json file\n",
				"protocols_dyf = glueContext.create_dynamic_frame.from_options(\n",
				"    format_options={\"multiline\": False},\n",
				"    connection_type=\"s3\",\n",
				"    format=\"json\",\n",
				"    connection_options={\n",
				"        \"paths\": [f\"s3://dataspartan-test-bucket/defillama-analytics/raw-data/protocols/results/llama_protocols_{end_date}.json\"],\n",
				"        \"recurse\": False,\n",
				"    },\n",
				")"
			]
		},
		{
			"cell_type": "code",
			"execution_count": null,
			"metadata": {
				"trusted": true,
				"vscode": {
					"languageId": "python_glue_session"
				}
			},
			"outputs": [],
			"source": [
				"# Resolve ChoiceType field, with 2 choices - DoubleType & IntType\n",
				"# Flatten JSON file\n",
				"protocols_dyfc = protocols_dyf.resolveChoice(choice=\"make_cols\").relationalize(\"root\", \"s3://dataspartan-test-bucket/unspecified/temp-dir/\")"
			]
		},
		{
			"cell_type": "code",
			"execution_count": null,
			"metadata": {
				"trusted": true,
				"vscode": {
					"languageId": "python_glue_session"
				}
			},
			"outputs": [],
			"source": [
				"protocols_dyfc_root = protocols_dyfc.select('root_protocols')\n",
				"protocols_df_root =  protocols_dyfc_root.toDF()\n",
				"new_cols=(column.replace('.', '_') for column in protocols_df_root.columns)\n",
				"protocols_df_root = protocols_df_root.toDF(*new_cols)"
			]
		},
		{
			"cell_type": "code",
			"execution_count": null,
			"metadata": {
				"trusted": true,
				"vscode": {
					"languageId": "python_glue_session"
				}
			},
			"outputs": [],
			"source": [
				"dtypes_all = protocols_df_root.dtypes"
			]
		},
		{
			"cell_type": "code",
			"execution_count": null,
			"metadata": {
				"trusted": true,
				"vscode": {
					"languageId": "python_glue_session"
				}
			},
			"outputs": [],
			"source": [
				"#Extract all columns names in DF\n",
				"col_all = []\n",
				"for col in dtypes_all:\n",
				"    col_all.append(col[0])"
			]
		},
		{
			"cell_type": "code",
			"execution_count": null,
			"metadata": {
				"trusted": true,
				"vscode": {
					"languageId": "python_glue_session"
				}
			},
			"outputs": [],
			"source": [
				"# Filter out all columns names that were under ChoiceType field \n",
				"col_int = []\n",
				"col_double = []\n",
				"for col in dtypes_all:\n",
				"    if '_int' in col[0]:\n",
				"        key = col[0].replace('_int', '')\n",
				"        col_int.append(key)\n",
				"    elif '_double' in col[0]:\n",
				"        key = col[0].replace('_double', '')\n",
				"        col_double.append(key)"
			]
		},
		{
			"cell_type": "code",
			"execution_count": null,
			"metadata": {
				"trusted": true,
				"vscode": {
					"languageId": "python_glue_session"
				}
			},
			"outputs": [],
			"source": [
				"# Only include columns names that have both int and double, to confirm that they were from ChoiceType field\n",
				"col_match = [x for x in col_int if x in col_double]"
			]
		},
		{
			"cell_type": "code",
			"execution_count": null,
			"metadata": {
				"trusted": true,
				"vscode": {
					"languageId": "python_glue_session"
				}
			},
			"outputs": [],
			"source": [
				"# Combine the two lists - Used to drop columns later\n",
				"col_int_double = []\n",
				"for col in col_match:\n",
				"    _int = col+'_int'\n",
				"    _double = col+'_double'\n",
				"    col_int_double += [_int,_double]"
			]
		},
		{
			"cell_type": "code",
			"execution_count": null,
			"metadata": {
				"trusted": true,
				"vscode": {
					"languageId": "python_glue_session"
				}
			},
			"outputs": [],
			"source": [
				"# Filter out remaining columns that did not belong to the ChoiceType fields\n",
				"col_remain =  [x for x in col_all if x not in col_int_double]"
			]
		},
		{
			"cell_type": "code",
			"execution_count": null,
			"metadata": {
				"trusted": true,
				"vscode": {
					"languageId": "python_glue_session"
				}
			},
			"outputs": [],
			"source": [
				"col_fillna = {}\n",
				"for col in col_int_double:\n",
				"    col_fillna[col] = '0'"
			]
		},
		{
			"cell_type": "code",
			"execution_count": null,
			"metadata": {
				"vscode": {
					"languageId": "python_glue_session"
				}
			},
			"outputs": [],
			"source": [
				"#fill all ChoiceType field related columns with 0 for to sum later.\n",
				"protocols_df_root = protocols_df_root.fillna(col_fillna)"
			]
		},
		{
			"cell_type": "code",
			"execution_count": null,
			"metadata": {
				"scrolled": true,
				"tags": [],
				"trusted": true,
				"vscode": {
					"languageId": "python_glue_session"
				}
			},
			"outputs": [],
			"source": [
				"# Combine columns from the same ChoiceType field into one column\n",
				"for col in col_match:\n",
				"    _int = '`'+col+'_int`'\n",
				"    _double = '`'+col+'_double`'\n",
				"    protocols_df_root = protocols_df_root.withColumn(col, protocols_df_root[_int] + protocols_df_root[_double])\n",
				"    # protocols_df_root = protocols_df_root.drop(protocols_df_root[_int] + protocols_df_root[_double])"
			]
		},
		{
			"cell_type": "code",
			"execution_count": null,
			"metadata": {
				"trusted": true,
				"vscode": {
					"languageId": "python_glue_session"
				}
			},
			"outputs": [],
			"source": [
				"# Remove ChoiceType related columns\n",
				"# Remove text-based columns as they cause error when exporting as csv - Solution to be figured out down the road.\n",
				"protocols_df_root_new = protocols_df_root.drop(*col_int_double, 'protocols_val_audit_note', 'protocols_val_description')"
			]
		},
		{
			"cell_type": "code",
			"execution_count": null,
			"metadata": {
				"trusted": true,
				"vscode": {
					"languageId": "python_glue_session"
				}
			},
			"outputs": [],
			"source": [
				"#https://medium.com/geekculture/aws-glue-simple-job-to-write-part-csv-files-to-a-single-file-d805eddbe641\n",
				"protocols_df_root_new.repartition(1).write.mode('overwrite').csv(f's3://dataspartan-test-bucket/defillama-analytics/raw-data/protocols/unnested/dump/root_protocols_{end_date}',header = 'true')"
			]
		},
		{
			"cell_type": "code",
			"execution_count": null,
			"metadata": {
				"trusted": true,
				"vscode": {
					"languageId": "python_glue_session"
				}
			},
			"outputs": [],
			"source": [
				"import boto3\n",
				"client = boto3.client('s3')\n",
				"BUCKET_NAME= 'dataspartan-test-bucket'\n",
				"PREFIX_start ='defillama-analytics/raw-data/protocols/unnested/'\n",
				"PREFIX_end =f'/root_protocols_{end_date}'\n",
				"response = client.list_objects(\n",
				"    Bucket=BUCKET_NAME, Prefix=PREFIX_start+'dump'+PREFIX_end,)\n",
				"#Helps to fetch the file name of the file created in this glue job\n",
				"name = response['Contents'][0]['Key']\n",
				"client.copy_object(Bucket=BUCKET_NAME, \n",
				"#The csv file generated can be renamed with a name as desired !\n",
				"CopySource=BUCKET_NAME+'/'+name, Key=PREFIX_start+f'root_protocols/root_protocols_single_file.csv')"
			]
		},
		{
			"cell_type": "code",
			"execution_count": null,
			"metadata": {
				"vscode": {
					"languageId": "python_glue_session"
				}
			},
			"outputs": [],
			"source": []
		}
	],
	"metadata": {
		"kernelspec": {
			"display_name": "Glue PySpark",
			"language": "python",
			"name": "glue_pyspark"
		},
		"language_info": {
			"codemirror_mode": {
				"name": "python",
				"version": 3
			},
			"file_extension": ".py",
			"mimetype": "text/x-python",
			"name": "Python_Glue_Session",
			"pygments_lexer": "python3"
		}
	},
	"nbformat": 4,
	"nbformat_minor": 4
}
